{
 "cells": [
  {
   "cell_type": "code",
   "execution_count": 1,
   "metadata": {},
   "outputs": [
    {
     "name": "stderr",
     "output_type": "stream",
     "text": [
      "Using TensorFlow backend.\n"
     ]
    }
   ],
   "source": [
    "import os\n",
    "import shutil\n",
    "import random\n",
    "from glob import glob\n",
    "from tqdm import tqdm\n",
    "from math import floor\n",
    "\n",
    "from sklearn.datasets import load_files\n",
    "from keras.preprocessing.image import load_img"
   ]
  },
  {
   "cell_type": "code",
   "execution_count": 2,
   "metadata": {},
   "outputs": [],
   "source": [
    "#input_dataset_path = './data/train2017'\n",
    "#train_dataset_path = './data/train'\n",
    "#validation_dataset_path = './data/valid'\n",
    "#test_dataset_path = './data/test'\n",
    "\n",
    "input_dataset_path = './data/celeba/img_celeba'\n",
    "train_dataset_path = './data/celeba/train'\n",
    "validation_dataset_path = './data/celeba/valid'\n",
    "test_dataset_path = './data/celeba/test'"
   ]
  },
  {
   "cell_type": "code",
   "execution_count": 3,
   "metadata": {},
   "outputs": [],
   "source": [
    "def check_image_size_compliance(file_name, min_side=384):\n",
    "    try:\n",
    "        img = load_img(file_name)\n",
    "    except IOError:\n",
    "        return False\n",
    "\n",
    "    width, height = img.size\n",
    "    if width < min_side or height < min_side:\n",
    "        return False\n",
    "    \n",
    "    return True\n",
    "\n",
    "def get_size_complian_images(folder_path, min_side=384):\n",
    "    compliant_images = []\n",
    "    for img_path in tqdm(glob(folder_path)):\n",
    "        compliant = check_image_size_compliance(img_path, min_side)\n",
    "        if compliant:\n",
    "            compliant_images.append(img_path)\n",
    "\n",
    "    return compliant_images\n"
   ]
  },
  {
   "cell_type": "code",
   "execution_count": 4,
   "metadata": {},
   "outputs": [
    {
     "name": "stderr",
     "output_type": "stream",
     "text": [
      "100%|█████████████████████████████████████████████████████████████████████████████████████████████████████████████████████████████████████████████| 202599/202599 [08:19<00:00, 405.79it/s]\n"
     ]
    }
   ],
   "source": [
    "all_valid_images = get_size_complian_images(input_dataset_path+'/*')"
   ]
  },
  {
   "cell_type": "code",
   "execution_count": 5,
   "metadata": {},
   "outputs": [],
   "source": [
    "random.shuffle(all_valid_images)"
   ]
  },
  {
   "cell_type": "markdown",
   "metadata": {},
   "source": [
    "### Copy the images to the folders\n",
    "- 75% train\n",
    "- 20% validation\n",
    "- 5% test\n",
    "\n",
    "I picked only 5% for test since we are going to visualy inspect the images. If needed I can change the ratio."
   ]
  },
  {
   "cell_type": "code",
   "execution_count": 6,
   "metadata": {},
   "outputs": [
    {
     "name": "stdout",
     "output_type": "stream",
     "text": [
      "train_images:  73576\n",
      "validation_images:  19620\n",
      "test_images:  4906\n"
     ]
    }
   ],
   "source": [
    "images_count = len(all_valid_images)\n",
    "\n",
    "train_start = 0\n",
    "validation_start = int(images_count * 0.75)\n",
    "test_start = int(images_count * 0.95)\n",
    "\n",
    "train_images = all_valid_images[0:validation_start]\n",
    "validation_images = all_valid_images[validation_start:test_start]\n",
    "test_images = all_valid_images[test_start:]\n",
    "\n",
    "print('train_images: ', len(train_images))\n",
    "print('validation_images: ', len(validation_images))\n",
    "print('test_images: ', len(test_images))"
   ]
  },
  {
   "cell_type": "code",
   "execution_count": 7,
   "metadata": {},
   "outputs": [
    {
     "name": "stdout",
     "output_type": "stream",
     "text": [
      "Copying train images...\n"
     ]
    },
    {
     "name": "stderr",
     "output_type": "stream",
     "text": [
      "100%|███████████████████████████████████████████████████████████████████████████████████████████████████████████████████████████████████████████████| 73576/73576 [04:15<00:00, 287.76it/s]\n"
     ]
    },
    {
     "name": "stdout",
     "output_type": "stream",
     "text": [
      "Copying validation images...\n"
     ]
    },
    {
     "name": "stderr",
     "output_type": "stream",
     "text": [
      "100%|███████████████████████████████████████████████████████████████████████████████████████████████████████████████████████████████████████████████| 19620/19620 [01:13<00:00, 267.86it/s]\n"
     ]
    }
   ],
   "source": [
    "print('Copying train images...')\n",
    "for file_path in tqdm(train_images):\n",
    "    shutil.copy2(file_path, train_dataset_path)\n",
    "\n",
    "print('Copying validation images...')\n",
    "for file_path in tqdm(validation_images):\n",
    "    shutil.copy2(file_path, validation_dataset_path)"
   ]
  },
  {
   "cell_type": "code",
   "execution_count": 8,
   "metadata": {},
   "outputs": [
    {
     "name": "stdout",
     "output_type": "stream",
     "text": [
      "Copying test images...\n"
     ]
    },
    {
     "name": "stderr",
     "output_type": "stream",
     "text": [
      "100%|█████████████████████████████████████████████████████████████████████████████████████████████████████████████████████████████████████████████████| 4906/4906 [00:18<00:00, 263.85it/s]\n"
     ]
    }
   ],
   "source": [
    "\n",
    "print('Copying test images...')\n",
    "for file_path in tqdm(test_images):\n",
    "    shutil.copy2(file_path, test_dataset_path)"
   ]
  },
  {
   "cell_type": "code",
   "execution_count": null,
   "metadata": {},
   "outputs": [],
   "source": []
  }
 ],
 "metadata": {
  "kernelspec": {
   "display_name": "Python 3",
   "language": "python",
   "name": "python3"
  },
  "language_info": {
   "codemirror_mode": {
    "name": "ipython",
    "version": 3
   },
   "file_extension": ".py",
   "mimetype": "text/x-python",
   "name": "python",
   "nbconvert_exporter": "python",
   "pygments_lexer": "ipython3",
   "version": "3.6.8"
  }
 },
 "nbformat": 4,
 "nbformat_minor": 2
}
