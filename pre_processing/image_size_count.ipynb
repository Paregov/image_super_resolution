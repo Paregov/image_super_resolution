{
 "cells": [
  {
   "cell_type": "markdown",
   "metadata": {},
   "source": [
    "## Count how many images per size and how many are with the minimum required size"
   ]
  },
  {
   "cell_type": "markdown",
   "metadata": {},
   "source": [
    "### Imports"
   ]
  },
  {
   "cell_type": "code",
   "execution_count": 14,
   "metadata": {},
   "outputs": [],
   "source": [
    "from PIL import Image\n",
    "from glob import glob\n",
    "from tqdm import tqdm\n",
    "import csv"
   ]
  },
  {
   "cell_type": "markdown",
   "metadata": {},
   "source": [
    "### Define the helper functions"
   ]
  },
  {
   "cell_type": "code",
   "execution_count": 15,
   "metadata": {},
   "outputs": [],
   "source": [
    "def get_image_size(img_path):\n",
    "    img = Image.open(img_path)\n",
    "    return img.size"
   ]
  },
  {
   "cell_type": "code",
   "execution_count": 16,
   "metadata": {},
   "outputs": [],
   "source": [
    "def get_images_size_in_folder(folder_path, valid_sizes, invalid_sized):\n",
    "    if not (\"valid\" in valid_sizes):\n",
    "        valid_sizes[\"valid\"] = 0\n",
    "\n",
    "    if not (\"invalid\" in invalid_sized):\n",
    "        invalid_sized[\"invalid\"] = 0\n",
    "\n",
    "    for img_path in glob(folder_path):\n",
    "        width, height = get_image_size(img_path)\n",
    "\n",
    "        if width >= 384 and height >= 384:\n",
    "            valid_sizes[\"valid\"] += 1\n",
    "            key = \"{0}x{1}\".format(width, height)\n",
    "            if not (key in valid_sizes):\n",
    "                valid_sizes[key] = 0\n",
    "            valid_sizes[key] += 1\n",
    "        else:\n",
    "            invalid_sized[\"invalid\"] += 1\n",
    "            key = \"{0}x{1}\".format(width, height)\n",
    "            if not (key in invalid_sized):\n",
    "                invalid_sized[key] = 0\n",
    "            invalid_sized[key] += 1\n",
    "\n",
    "\n",
    "    return valid_sizes, invalid_sized"
   ]
  },
  {
   "cell_type": "code",
   "execution_count": 17,
   "metadata": {},
   "outputs": [],
   "source": [
    "def get_folder_name(full_name):\n",
    "    return full_name.split(\"/\")[-2]"
   ]
  },
  {
   "cell_type": "code",
   "execution_count": 18,
   "metadata": {},
   "outputs": [],
   "source": [
    "def save_to_csv(file_base, data):\n",
    "    file_name = \"{0}.csv\".format(file_base)\n",
    "    with open(file_name, 'w') as f:\n",
    "        for key in data.keys():\n",
    "            f.write(\"{0},{1}\\n\".format(key, data[key]))"
   ]
  },
  {
   "cell_type": "markdown",
   "metadata": {},
   "source": [
    "### List of folders"
   ]
  },
  {
   "cell_type": "code",
   "execution_count": 19,
   "metadata": {},
   "outputs": [],
   "source": [
    "folders = [\"D:/datasets/images/test2014/*\", \"D:/datasets/images/test2015/*\", \"D:/datasets/images/test2017/*\",\n",
    "           \"D:/datasets/images/train2014/*\", \"D:/datasets/images/train2017/*\",\n",
    "           \"D:/datasets/images/val2014/*\", \"D:/datasets/images/val2017/*\",\n",
    "           \"D:/git/image_super_resolution/data/celeba/img_celeba/*\"]"
   ]
  },
  {
   "cell_type": "markdown",
   "metadata": {},
   "source": [
    "### Execute the count"
   ]
  },
  {
   "cell_type": "code",
   "execution_count": 20,
   "metadata": {},
   "outputs": [
    {
     "name": "stdout",
     "output_type": "stream",
     "text": [
      "D:/datasets/images/test2014/*\n",
      "D:/datasets/images/test2015/*\n",
      "D:/datasets/images/test2017/*\n",
      "D:/datasets/images/train2014/*\n",
      "D:/datasets/images/train2017/*\n",
      "D:/datasets/images/val2014/*\n",
      "D:/datasets/images/val2017/*\n",
      "D:/git/image_super_resolution/data/celeba/img_celeba/*\n"
     ]
    }
   ],
   "source": [
    "for folder_path in folders:\n",
    "    valid_sizes = {}\n",
    "    invalid_sized = {}\n",
    "    print(folder_path)\n",
    "    valid_sizes, invalid_sized = get_images_size_in_folder(folder_path, valid_sizes, invalid_sized)\n",
    "    folder_name = get_folder_name(folder_path)\n",
    "    save_to_csv(\"{0}_valid\".format(folder_name), valid_sizes)\n",
    "    save_to_csv(\"{0}_invalid\".format(folder_name), invalid_sized)"
   ]
  },
  {
   "cell_type": "code",
   "execution_count": null,
   "metadata": {},
   "outputs": [],
   "source": []
  },
  {
   "cell_type": "code",
   "execution_count": null,
   "metadata": {},
   "outputs": [],
   "source": []
  }
 ],
 "metadata": {
  "kernelspec": {
   "display_name": "Python 3",
   "language": "python",
   "name": "python3"
  },
  "language_info": {
   "codemirror_mode": {
    "name": "ipython",
    "version": 3
   },
   "file_extension": ".py",
   "mimetype": "text/x-python",
   "name": "python",
   "nbconvert_exporter": "python",
   "pygments_lexer": "ipython3",
   "version": "3.6.8"
  }
 },
 "nbformat": 4,
 "nbformat_minor": 2
}
