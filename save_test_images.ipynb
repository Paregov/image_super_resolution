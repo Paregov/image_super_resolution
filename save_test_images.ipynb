{
 "cells": [
  {
   "cell_type": "markdown",
   "metadata": {},
   "source": [
    "# Save images for process in other tools"
   ]
  },
  {
   "cell_type": "code",
   "execution_count": 1,
   "metadata": {},
   "outputs": [
    {
     "name": "stderr",
     "output_type": "stream",
     "text": [
      "Using TensorFlow backend.\n"
     ]
    }
   ],
   "source": [
    "import gc\n",
    "from models import generator_no_residual, generator_with_residual, discriminator\n",
    "from utils import check_path_exists\n",
    "from data_loader import load_images_with_truth\n",
    "from data_saver import save_image\n",
    "from loss_functions import perceptual_loss, perceptual_loss_16, perceptual_loss_19\n",
    "from loss_functions import texture_loss_multi_layers, perceptual_plus_texture_loss, perceptual_16_plus_texture_loss\n",
    "from visualizations import plot_images_for_compare, plot_images_for_compare_separate, compare_models, compare_models_single_image\n",
    "from keras.callbacks import ModelCheckpoint, EarlyStopping\n",
    "from keras.optimizers import Adam\n",
    "%matplotlib inline"
   ]
  },
  {
   "cell_type": "code",
   "execution_count": 2,
   "metadata": {},
   "outputs": [],
   "source": [
    "# This will use the smaller datasets (train_small, val_small, test_small).\n",
    "use_small_dataset = True\n",
    "\n",
    "# Set to true if you want to use CelebA dataset. Otherwise it will use MS COCO.\n",
    "use_dataset_celeba = False"
   ]
  },
  {
   "cell_type": "code",
   "execution_count": 3,
   "metadata": {},
   "outputs": [],
   "source": [
    "dataset = \"MSCOCO\"\n",
    "if use_dataset_celeba:\n",
    "    dataset = \"celeba\"\n",
    "\n",
    "if not use_small_dataset:\n",
    "    test_dataset_path = './data/{0}/test/*'.format(dataset)\n",
    "else:\n",
    "    test_dataset_path = './data/{0}/test_small/*'.format(dataset)\n",
    "\n",
    "output_dir = './data/{0}/test_32x32'.format(dataset)"
   ]
  },
  {
   "cell_type": "code",
   "execution_count": 4,
   "metadata": {},
   "outputs": [
    {
     "name": "stdout",
     "output_type": "stream",
     "text": [
      "Loading test data:\n"
     ]
    },
    {
     "name": "stderr",
     "output_type": "stream",
     "text": [
      "100%|██████████████████████████████████████████████████████████████████████████████████| 20/20 [00:00<00:00, 45.01it/s]\n"
     ]
    },
    {
     "name": "stdout",
     "output_type": "stream",
     "text": [
      "Test images:  20\n"
     ]
    }
   ],
   "source": [
    "print('Loading test data:')\n",
    "test_data, test_truth = load_images_with_truth(test_dataset_path, 4)\n",
    "\n",
    "print(\"Test images: \", len(test_data))"
   ]
  },
  {
   "cell_type": "code",
   "execution_count": 5,
   "metadata": {},
   "outputs": [],
   "source": [
    "for i in range(len(test_data)):\n",
    "    img = test_data[i]\n",
    "    save_image(img, \"{0}/test_image_{1}.jpg\".format(output_dir, i+1))\n",
    "    # save the truth as well, for final compare"
   ]
  },
  {
   "cell_type": "code",
   "execution_count": null,
   "metadata": {},
   "outputs": [],
   "source": []
  },
  {
   "cell_type": "code",
   "execution_count": null,
   "metadata": {},
   "outputs": [],
   "source": []
  }
 ],
 "metadata": {
  "kernelspec": {
   "display_name": "Python 3",
   "language": "python",
   "name": "python3"
  },
  "language_info": {
   "codemirror_mode": {
    "name": "ipython",
    "version": 3
   },
   "file_extension": ".py",
   "mimetype": "text/x-python",
   "name": "python",
   "nbconvert_exporter": "python",
   "pygments_lexer": "ipython3",
   "version": "3.6.8"
  }
 },
 "nbformat": 4,
 "nbformat_minor": 2
}
